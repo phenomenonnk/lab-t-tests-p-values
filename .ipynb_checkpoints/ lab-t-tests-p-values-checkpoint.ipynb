{
 "cells": [
  {
   "cell_type": "markdown",
   "id": "f8018d59",
   "metadata": {},
   "source": [
    "# lab-t-tests-p-values"
   ]
  },
  {
   "cell_type": "markdown",
   "id": "f5e80767",
   "metadata": {},
   "source": [
    "#### Instructions"
   ]
  },
  {
   "cell_type": "markdown",
   "id": "3c25aecd",
   "metadata": {},
   "source": [
    "#### 1. We will have another simple example on two sample t test (pooled- when the variances are equal). But this time this is a one sided t-test"
   ]
  },
  {
   "cell_type": "markdown",
   "id": "39123159",
   "metadata": {},
   "source": [
    "#### In a packing plant, a machine packs cartons with jars. It is supposed that a new machine will pack faster on the average than the machine currently used. To test that hypothesis, the times it takes each machine to pack ten cartons are recorded. The results, in seconds, are shown in the tables in the file files_for_lab/machine.txt. Assume that there is sufficient evidence to conduct the t test, does the data provide sufficient evidence to show if one machine is better than the other"
   ]
  },
  {
   "cell_type": "code",
   "execution_count": 1,
   "id": "556f84b0",
   "metadata": {},
   "outputs": [],
   "source": [
    "# importing libraries\n",
    "import pandas as pd\n",
    "import numpy as np\n",
    "import scipy.stats as st\n",
    "import matplotlib.pyplot as plt\n",
    "import seaborn as sns\n",
    "import warnings\n",
    "warnings.filterwarnings('ignore')"
   ]
  },
  {
   "cell_type": "code",
   "execution_count": 2,
   "id": "31651701",
   "metadata": {},
   "outputs": [
    {
     "data": {
      "text/html": [
       "<div>\n",
       "<style scoped>\n",
       "    .dataframe tbody tr th:only-of-type {\n",
       "        vertical-align: middle;\n",
       "    }\n",
       "\n",
       "    .dataframe tbody tr th {\n",
       "        vertical-align: top;\n",
       "    }\n",
       "\n",
       "    .dataframe thead th {\n",
       "        text-align: right;\n",
       "    }\n",
       "</style>\n",
       "<table border=\"1\" class=\"dataframe\">\n",
       "  <thead>\n",
       "    <tr style=\"text-align: right;\">\n",
       "      <th></th>\n",
       "      <th>New machine</th>\n",
       "      <th>Old machine</th>\n",
       "    </tr>\n",
       "  </thead>\n",
       "  <tbody>\n",
       "    <tr>\n",
       "      <th>0</th>\n",
       "      <td>42.1</td>\n",
       "      <td>42.7</td>\n",
       "    </tr>\n",
       "    <tr>\n",
       "      <th>1</th>\n",
       "      <td>41.0</td>\n",
       "      <td>43.6</td>\n",
       "    </tr>\n",
       "    <tr>\n",
       "      <th>2</th>\n",
       "      <td>41.3</td>\n",
       "      <td>43.8</td>\n",
       "    </tr>\n",
       "    <tr>\n",
       "      <th>3</th>\n",
       "      <td>41.8</td>\n",
       "      <td>43.3</td>\n",
       "    </tr>\n",
       "    <tr>\n",
       "      <th>4</th>\n",
       "      <td>42.4</td>\n",
       "      <td>42.5</td>\n",
       "    </tr>\n",
       "    <tr>\n",
       "      <th>5</th>\n",
       "      <td>42.8</td>\n",
       "      <td>43.5</td>\n",
       "    </tr>\n",
       "    <tr>\n",
       "      <th>6</th>\n",
       "      <td>43.2</td>\n",
       "      <td>43.1</td>\n",
       "    </tr>\n",
       "    <tr>\n",
       "      <th>7</th>\n",
       "      <td>42.3</td>\n",
       "      <td>41.7</td>\n",
       "    </tr>\n",
       "    <tr>\n",
       "      <th>8</th>\n",
       "      <td>41.8</td>\n",
       "      <td>44.0</td>\n",
       "    </tr>\n",
       "    <tr>\n",
       "      <th>9</th>\n",
       "      <td>42.7</td>\n",
       "      <td>44.1</td>\n",
       "    </tr>\n",
       "  </tbody>\n",
       "</table>\n",
       "</div>"
      ],
      "text/plain": [
       "   New machine      Old machine\n",
       "0         42.1             42.7\n",
       "1         41.0             43.6\n",
       "2         41.3             43.8\n",
       "3         41.8             43.3\n",
       "4         42.4             42.5\n",
       "5         42.8             43.5\n",
       "6         43.2             43.1\n",
       "7         42.3             41.7\n",
       "8         41.8             44.0\n",
       "9         42.7             44.1"
      ]
     },
     "execution_count": 2,
     "metadata": {},
     "output_type": "execute_result"
    }
   ],
   "source": [
    "# Reading the file into python as dataframe\n",
    "machine_df = pd.read_csv(\"machine.txt\", encoding='utf=16', sep= '\\t')\n",
    "machine_df"
   ]
  },
  {
   "cell_type": "code",
   "execution_count": 3,
   "id": "21896311",
   "metadata": {},
   "outputs": [
    {
     "data": {
      "text/plain": [
       "['new_machine', 'old_machine']"
      ]
     },
     "execution_count": 3,
     "metadata": {},
     "output_type": "execute_result"
    }
   ],
   "source": [
    "# Standardizing header-column names in the dataframe by using only lowercase letters and by replacing the spaces with underscores\n",
    "machine_df.columns = [machine_df.columns[i].lower().replace('    ','').replace(' ', '_') for i in range(len(machine_df.columns))]\n",
    "list(machine_df.columns)"
   ]
  },
  {
   "cell_type": "code",
   "execution_count": 4,
   "id": "987e179f",
   "metadata": {},
   "outputs": [],
   "source": [
    "# the observations per machine in 2 separate variables:\n",
    "new_machine = machine_df['new_machine']\n",
    "old_machine = machine_df['old_machine']"
   ]
  },
  {
   "cell_type": "code",
   "execution_count": 5,
   "id": "769179ee",
   "metadata": {},
   "outputs": [
    {
     "data": {
      "text/html": [
       "<div>\n",
       "<style scoped>\n",
       "    .dataframe tbody tr th:only-of-type {\n",
       "        vertical-align: middle;\n",
       "    }\n",
       "\n",
       "    .dataframe tbody tr th {\n",
       "        vertical-align: top;\n",
       "    }\n",
       "\n",
       "    .dataframe thead th {\n",
       "        text-align: right;\n",
       "    }\n",
       "</style>\n",
       "<table border=\"1\" class=\"dataframe\">\n",
       "  <thead>\n",
       "    <tr style=\"text-align: right;\">\n",
       "      <th></th>\n",
       "      <th>new_machine</th>\n",
       "      <th>old_machine</th>\n",
       "    </tr>\n",
       "  </thead>\n",
       "  <tbody>\n",
       "    <tr>\n",
       "      <th>count</th>\n",
       "      <td>10.000000</td>\n",
       "      <td>10.000000</td>\n",
       "    </tr>\n",
       "    <tr>\n",
       "      <th>mean</th>\n",
       "      <td>42.140000</td>\n",
       "      <td>43.230000</td>\n",
       "    </tr>\n",
       "    <tr>\n",
       "      <th>std</th>\n",
       "      <td>0.683455</td>\n",
       "      <td>0.749889</td>\n",
       "    </tr>\n",
       "    <tr>\n",
       "      <th>min</th>\n",
       "      <td>41.000000</td>\n",
       "      <td>41.700000</td>\n",
       "    </tr>\n",
       "    <tr>\n",
       "      <th>25%</th>\n",
       "      <td>41.800000</td>\n",
       "      <td>42.800000</td>\n",
       "    </tr>\n",
       "    <tr>\n",
       "      <th>50%</th>\n",
       "      <td>42.200000</td>\n",
       "      <td>43.400000</td>\n",
       "    </tr>\n",
       "    <tr>\n",
       "      <th>75%</th>\n",
       "      <td>42.625000</td>\n",
       "      <td>43.750000</td>\n",
       "    </tr>\n",
       "    <tr>\n",
       "      <th>max</th>\n",
       "      <td>43.200000</td>\n",
       "      <td>44.100000</td>\n",
       "    </tr>\n",
       "  </tbody>\n",
       "</table>\n",
       "</div>"
      ],
      "text/plain": [
       "       new_machine  old_machine\n",
       "count    10.000000    10.000000\n",
       "mean     42.140000    43.230000\n",
       "std       0.683455     0.749889\n",
       "min      41.000000    41.700000\n",
       "25%      41.800000    42.800000\n",
       "50%      42.200000    43.400000\n",
       "75%      42.625000    43.750000\n",
       "max      43.200000    44.100000"
      ]
     },
     "execution_count": 5,
     "metadata": {},
     "output_type": "execute_result"
    }
   ],
   "source": [
    "# Let's describe the data, we will keep the means and the standard deviations of the machines.\n",
    "machine_df.describe()\n",
    "# The New machine's mean is 42.14 and its standard deviation is 0.68\n",
    "# The Old machine's mean is 43.23 and its standard deviation is 0.75, approximately"
   ]
  },
  {
   "cell_type": "markdown",
   "id": "08ba3522",
   "metadata": {},
   "source": [
    "#### Step 1: Define the null hypothesis (the opposite from what we check)\n",
    "#### The goal in classic inferential statistics is to prove the null hypothesis wrong\n",
    "#### null hypothesis -> H0: μ >= μ0 , means that the new machine does not pack faster on the average than the machine currently used\n",
    "#### or better μ (New machine's mean: 42.14 cartons) >= μ0 (Old machine's mean: 43.23 cartons)\n",
    "#### we could also check as null hypothesis -> H0: μ - μ0 >= 0 "
   ]
  },
  {
   "cell_type": "code",
   "execution_count": 6,
   "id": "de67d8e9",
   "metadata": {},
   "outputs": [
    {
     "name": "stdout",
     "output_type": "stream",
     "text": [
      "n: 10 , mean: 42.14 , standard deviation:  0.6483826030978941\n"
     ]
    }
   ],
   "source": [
    "# n , mean and standard deviation of the first sample (new_machine)\n",
    "print('n:', len(new_machine),', mean:', np.mean(new_machine), ', standard deviation: ',np.std(new_machine))\n"
   ]
  },
  {
   "cell_type": "code",
   "execution_count": 7,
   "id": "cc579f4e",
   "metadata": {},
   "outputs": [
    {
     "name": "stdout",
     "output_type": "stream",
     "text": [
      "n: 10 , mean: 43.230000000000004 , standard deviation:  0.7114070564732956\n"
     ]
    }
   ],
   "source": [
    "# n , mean and standard deviation of the second sample (old_machine)\n",
    "print('n:', len(old_machine), ', mean:', np.mean(old_machine), ', standard deviation: ',np.std(old_machine))"
   ]
  },
  {
   "cell_type": "code",
   "execution_count": 8,
   "id": "cb08cbdf",
   "metadata": {},
   "outputs": [
    {
     "name": "stdout",
     "output_type": "stream",
     "text": [
      "New machine's mean is 42.14\n",
      "Old machine's mean is 43.23\n",
      "New machine's standard deviation is 0.65\n",
      "Old machine's standard deviation is 0.71\n"
     ]
    }
   ],
   "source": [
    "print(\"New machine's mean is {:.2f}\".format(np.mean(new_machine)))\n",
    "print(\"Old machine's mean is {:.2f}\".format(np.mean(old_machine)))\n",
    "print(\"New machine's standard deviation is {:.2f}\".format(np.std(new_machine)))\n",
    "print(\"Old machine's standard deviation is {:.2f}\".format(np.std(old_machine)))"
   ]
  },
  {
   "cell_type": "markdown",
   "id": "f66d4db3",
   "metadata": {},
   "source": [
    "#### Step 2: Define the alternative hypothesis\n",
    "#### This means, what if our assumption is not true. \n",
    "#### alternative hypothesis -> H1 (or Ha): μ < μ0, means that the new machine  packs faster on the average than the machine currently used\n",
    "#### or better μ (New machine's mean: 42.14 cartons) <  μ0 (Old machine's mean: 43.23 cartons)\n",
    "#### we could also check as alternative hypothesis -> H0: μ - μ0 < 0 "
   ]
  },
  {
   "cell_type": "markdown",
   "id": "d9e7b171",
   "metadata": {},
   "source": [
    "#### Step 3: Determine if it is an one-tailed or a two-tailed test, it is an one-tailed test.\n",
    "#### In this case we are checking if the new machine packs faster on the average than the machine currently used\n",
    "#### or we are checking if New machine's mean: 42.14 cartons is significantly smaller than (<) the Old machine's mean: 43.23 cartons \n",
    "#### according to the sample of the 10 measurements\n",
    "#### from the first view, we can notice that New machine's mean: 42.14 cartons < μ0 (Old machine's mean: 43.23 cartons)\n",
    "#### so the new machine is faster than the old one\n",
    "#### but is it significant faster for specific α-significant level?\n",
    "#### Let's check it"
   ]
  },
  {
   "cell_type": "markdown",
   "id": "33afc4d0",
   "metadata": {},
   "source": [
    "#### Step 4: Decide a test statistics based on the information available. Assuming data is normally distributed and number of observations are less then 30 and variance is known (we can compute it), we will use a t-test. This test is based on a \"t-distribution\" which is a normal distribution. If the population variance was not known or the testing sample is less then 30, we use a t-test. T test is based on students t distribution which is very similar to a standard normal distribution except that it is much flatter."
   ]
  },
  {
   "cell_type": "markdown",
   "id": "5efcb69e",
   "metadata": {},
   "source": [
    "#### Step 5: Level of significance: This defines the rejection region/critical region,\n",
    "#### it's the probability of making the wrong decision when the null hypothesis is true.\n",
    "#### we will use α=0,05"
   ]
  },
  {
   "cell_type": "markdown",
   "id": "77c76748",
   "metadata": {},
   "source": [
    "#### Step 6: Calculate the test statistic based on the given information\n",
    "#### we will use t-test"
   ]
  },
  {
   "cell_type": "code",
   "execution_count": 9,
   "id": "be7d9580",
   "metadata": {},
   "outputs": [],
   "source": [
    "# the Pooled Standard Deviation is:\n",
    "SDpooled_numerator = ( len(new_machine) - 1 ) * ( np.std(new_machine)**2 ) +  ( len(old_machine) - 1 ) * ( np.std(old_machine)**2 )\n",
    "SDpooled_no_root = SDpooled_numerator/( len(new_machine) + len(old_machine) - 2)\n",
    "SDpooled = np.sqrt(SDpooled_no_root)"
   ]
  },
  {
   "cell_type": "code",
   "execution_count": 10,
   "id": "a31c8b0c",
   "metadata": {},
   "outputs": [],
   "source": [
    "# the Statistical value t is:\n",
    "t=(np.mean(new_machine)-np.mean(old_machine))/np.sqrt((SDpooled**2)/(len(new_machine)-1)+(SDpooled**2)/(len(old_machine)-1))"
   ]
  },
  {
   "cell_type": "code",
   "execution_count": 11,
   "id": "82d9d18b",
   "metadata": {},
   "outputs": [
    {
     "name": "stdout",
     "output_type": "stream",
     "text": [
      "The t statistic is: -3.40\n"
     ]
    }
   ],
   "source": [
    "print(\"The t statistic is: {:.2f}\".format(t))"
   ]
  },
  {
   "cell_type": "code",
   "execution_count": 12,
   "id": "4cb8bf85",
   "metadata": {},
   "outputs": [
    {
     "data": {
      "text/plain": [
       "1.7340636066175354"
      ]
     },
     "execution_count": 12,
     "metadata": {},
     "output_type": "execute_result"
    }
   ],
   "source": [
    "# Percent point function\n",
    "Zc = st.t.ppf(1-(0.05),df = len(new_machine)+len(old_machine)-2)\n",
    "Zc"
   ]
  },
  {
   "cell_type": "code",
   "execution_count": 13,
   "id": "83035151",
   "metadata": {},
   "outputs": [
    {
     "data": {
      "text/plain": [
       "Ttest_indResult(statistic=-3.3972307061176026, pvalue=0.0016055712503872579)"
      ]
     },
     "execution_count": 13,
     "metadata": {},
     "output_type": "execute_result"
    }
   ],
   "source": [
    "# or easily, we use alternative='less' because it is an one-tailed test\n",
    "from scipy.stats import ttest_ind, norm\n",
    "ttest_ind(new_machine, old_machine, alternative='less')"
   ]
  },
  {
   "cell_type": "code",
   "execution_count": 14,
   "id": "29ed15ea",
   "metadata": {},
   "outputs": [],
   "source": [
    "# we can notice that p-value is pvalue=0.0016055712503872579< a=0.05\n",
    "# So, we reject the null hypothesis and we accept the alternative hypothesis that\n",
    "# H1 (or Ha): μ < μ0 or that the new machine packs faster on the average than the machine currently used"
   ]
  },
  {
   "cell_type": "markdown",
   "id": "7455023a",
   "metadata": {},
   "source": [
    "###    An additional problem (not mandatory): In this case we can't assume that the population variances are equal. Hence in this case we cannot pool the variances. Independent random samples of 17 sophomores and 13 juniors attending a large university yield the following data on grade point averages. Data is provided in the file files_for_lab/student_gpa.txt. At the 5% significance level, do the data provide sufficient evidence to conclude that the mean GPAs of sophomores and juniors at the university differ?"
   ]
  },
  {
   "cell_type": "code",
   "execution_count": 15,
   "id": "3837c950",
   "metadata": {},
   "outputs": [],
   "source": [
    "# # Reading the file into python as dataframe\n",
    "# student_gpa_df = pd.read_csv(\"student_gpa.txt\", sep= '\\t')\n",
    "# student_gpa_df"
   ]
  },
  {
   "cell_type": "code",
   "execution_count": 16,
   "id": "c103fa7a",
   "metadata": {},
   "outputs": [],
   "source": [
    "# # Standardizing header-column names in the dataframe by using only lowercase letters and by replacing the spaces with underscores\n",
    "# student_gpa_df.columns = [student_gpa_df.columns[i].lower().replace('  ','').replace(' ', '_') for i in range(len(student_gpa_df.columns))]\n",
    "# list(student_gpa_df.columns)"
   ]
  },
  {
   "cell_type": "code",
   "execution_count": 17,
   "id": "1a1bf22d",
   "metadata": {},
   "outputs": [],
   "source": [
    "# # the observations per sample in 2 separate variables:\n",
    "# sophomores = student_gpa_df['sophomores']\n",
    "# juniors = student_gpa_df['juniors']"
   ]
  },
  {
   "cell_type": "code",
   "execution_count": 18,
   "id": "0646c4a1",
   "metadata": {},
   "outputs": [],
   "source": [
    "# # n , mean and standard deviation of the first sample (Sophomores)\n",
    "# print('n:', len(student_gpa_df['sophomores']),', mean:', np.mean(student_gpa_df['sophomores']), ', standard deviation: ',np.std(student_gpa_df['sophomores']))"
   ]
  },
  {
   "cell_type": "code",
   "execution_count": 19,
   "id": "57a9de0d",
   "metadata": {},
   "outputs": [],
   "source": [
    "# # n , mean and standard deviation of the second sample (Juniors)\n",
    "# print('n:', len(student_gpa_df['juniors']),', mean:', np.mean(student_gpa_df['juniors']), ', standard deviation: ',np.std(student_gpa_df['juniors']))\n",
    "# # we have n=17 because of the NaN values but they do not affect the process"
   ]
  },
  {
   "cell_type": "code",
   "execution_count": 20,
   "id": "0ba37856",
   "metadata": {},
   "outputs": [],
   "source": [
    "# null hypothesis -> H0: μ = μ0 , means that the mean GPAs of sophomores and juniors at the university are similar\n",
    "# or better μ (sophomores mean: 2.84) = μ0 (juniors mean: 2.98)\n",
    "# alternative hypothesis -> H1 (or Ha): μ ≠ μ0, means that the mean GPAs of sophomores and juniors at the university differ\n",
    "# It is a two-tailed test and we will use t test\n",
    "# as level of significance we will use α=0,05"
   ]
  },
  {
   "cell_type": "code",
   "execution_count": 21,
   "id": "e1f5756a",
   "metadata": {},
   "outputs": [],
   "source": [
    "# # or easily\n",
    "# from scipy.stats import ttest_ind, norm\n",
    "# ttest_ind(sophomores, juniors)"
   ]
  }
 ],
 "metadata": {
  "kernelspec": {
   "display_name": "Python 3 (ipykernel)",
   "language": "python",
   "name": "python3"
  },
  "language_info": {
   "codemirror_mode": {
    "name": "ipython",
    "version": 3
   },
   "file_extension": ".py",
   "mimetype": "text/x-python",
   "name": "python",
   "nbconvert_exporter": "python",
   "pygments_lexer": "ipython3",
   "version": "3.9.7"
  }
 },
 "nbformat": 4,
 "nbformat_minor": 5
}
